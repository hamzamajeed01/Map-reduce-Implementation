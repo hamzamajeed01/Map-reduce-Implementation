{
 "cells": [
  {
   "cell_type": "raw",
   "id": "d63dff1c",
   "metadata": {},
   "source": [
    "Hamza Majeed 20L-2074\n",
    "I have written 7 scripts for each part and at the end I have combined all outputs into one file."
   ]
  },
  {
   "cell_type": "markdown",
   "id": "0ab5bf0a",
   "metadata": {},
   "source": [
    "# Part 1"
   ]
  },
  {
   "cell_type": "code",
   "execution_count": 388,
   "id": "de303c33",
   "metadata": {},
   "outputs": [
    {
     "name": "stdout",
     "output_type": "stream",
     "text": [
      "Writing rc1.py\n"
     ]
    }
   ],
   "source": [
    "%%file rc1.py\n",
    "from mrjob.job import MRJob\n",
    "import re\n",
    "\n",
    "class Part1(MRJob):\n",
    "    def mapper_init(self):\n",
    "        self.decades = {}\n",
    "\n",
    "    def mapper(self, _, line):\n",
    "        year = re.findall(r'#t(\\d+)', line)\n",
    "        if year:\n",
    "            year = int(year[0])\n",
    "            decade = (year // 10) * 10\n",
    "            if decade not in self.decades:\n",
    "                self.decades[decade] = 0\n",
    "            self.decades[decade] += 1\n",
    "\n",
    "    def mapper_final(self):\n",
    "        for decade, count in self.decades.items():\n",
    "            yield decade, count\n",
    "    def reducer(self, decade, counts):\n",
    "        yield decade, sum(counts)\n",
    "\n",
    "if __name__ == '__main__':\n",
    "    Part1.run()\n"
   ]
  },
  {
   "cell_type": "code",
   "execution_count": 389,
   "id": "085e03df",
   "metadata": {},
   "outputs": [
    {
     "name": "stdout",
     "output_type": "stream",
     "text": [
      "1970\t4\n",
      "1980\t3\n",
      "1990\t11\n",
      "2000\t82\n"
     ]
    },
    {
     "name": "stderr",
     "output_type": "stream",
     "text": [
      "No configs found; falling back on auto-configuration\n",
      "No configs specified for inline runner\n",
      "Creating temp directory C:\\Users\\PC\\AppData\\Local\\Temp\\rc.PC.20240212.181929.826545\n",
      "Running step 1 of 1...\n",
      "job output is in C:\\Users\\PC\\AppData\\Local\\Temp\\rc.PC.20240212.181929.826545\\output\n",
      "Streaming final output from C:\\Users\\PC\\AppData\\Local\\Temp\\rc.PC.20240212.181929.826545\\output...\n",
      "Removing temp directory C:\\Users\\PC\\AppData\\Local\\Temp\\rc.PC.20240212.181929.826545...\n"
     ]
    }
   ],
   "source": [
    "!python rc.py citation.txt"
   ]
  },
  {
   "cell_type": "code",
   "execution_count": 390,
   "id": "6e838627",
   "metadata": {},
   "outputs": [
    {
     "name": "stderr",
     "output_type": "stream",
     "text": [
      "No configs found; falling back on auto-configuration\n",
      "No configs specified for inline runner\n",
      "Creating temp directory C:\\Users\\PC\\AppData\\Local\\Temp\\rc1.PC.20240212.181936.229546\n",
      "Running step 1 of 1...\n",
      "job output is in C:\\Users\\PC\\AppData\\Local\\Temp\\rc1.PC.20240212.181936.229546\\output\n",
      "Streaming final output from C:\\Users\\PC\\AppData\\Local\\Temp\\rc1.PC.20240212.181936.229546\\output...\n",
      "Removing temp directory C:\\Users\\PC\\AppData\\Local\\Temp\\rc1.PC.20240212.181936.229546...\n"
     ]
    }
   ],
   "source": [
    "!python rc1.py citation.txt > output_rc1.txt"
   ]
  },
  {
   "cell_type": "markdown",
   "id": "473c0e43",
   "metadata": {},
   "source": [
    "# Part 2"
   ]
  },
  {
   "cell_type": "code",
   "execution_count": 210,
   "id": "4d5cdeb5",
   "metadata": {},
   "outputs": [
    {
     "name": "stdout",
     "output_type": "stream",
     "text": [
      "Overwriting rc2.py\n"
     ]
    }
   ],
   "source": [
    "%%file rc2.py\n",
    "from mrjob.job import MRJob\n",
    "import re\n",
    "class Part2(MRJob):\n",
    "\n",
    "    def mapper_init(self):\n",
    "        self.year_titles = {}\n",
    "\n",
    "    def mapper(self, _, line):\n",
    "        \n",
    "        year_match = re.search(r'#t(\\d{4})', line)  \n",
    "        title_match = re.search(r'(.+)(?=#@)', line) \n",
    "        if year_match and title_match:\n",
    "            year = int(year_match.group(1))\n",
    "            title = title_match.group(1).strip().lstrip('#*')\n",
    "            if year not in self.year_titles:\n",
    "                self.year_titles[year] = []\n",
    "            self.year_titles[year].append(title)\n",
    "\n",
    "    def mapper_final(self):\n",
    "        for year, titles in self.year_titles.items():\n",
    "            yield year, titles\n",
    "    def reducer(self, year, titles_lists):\n",
    "        combined= []\n",
    "        for titles in titles_lists:\n",
    "            for title in titles:\n",
    "                combined.append(title)\n",
    "        combined_titles_str = ' , '.join(combined)\n",
    "        yield year, combined_titles_str\n",
    "if __name__ == '__main__':\n",
    "    Part2.run()"
   ]
  },
  {
   "cell_type": "code",
   "execution_count": 211,
   "id": "85109d01",
   "metadata": {},
   "outputs": [
    {
     "name": "stdout",
     "output_type": "stream",
     "text": [
      "1973\t\"Notes from industry\"\n",
      "1975\t\"A control word model for detecting conflicts between microoperations\"\n",
      "1976\t\"Microprogramming for the hardware engineer\"\n",
      "1978\t\"Design team composition for high level language computer architectures\"\n",
      "1982\t\"Review of \\\"Bit-Slice Microprocessor Design by John Mick and James Brick\\\", McGraw-Hill Book Company, 1980\"\n",
      "1985\t\"Word Processing on Your MacIntosh\"\n",
      "1987\t\"Type Graphics and MacIntosh\"\n",
      "1991\t\"Tarski's World 3.0: Including the Macintosh TM Program (Center for the Study of Language and Information - Lecture Notes)\"\n",
      "1993\t\"Hyperstat: Macintosh Hypermedia for Analyzing Data and Learning Statistics\"\n",
      "1994\t\"At Ease With Performa , It's a Mad, Mad, Mad, Mad Mac\\/Book and Disk , Operations Research: Macintosh Version (Business Statistics Series)\"\n",
      "1995\t\"Internet and HTML Training on CD-ROM\"\n",
      "1996\t\"Fast k-NN Classification Rule Using Metrics on Space-Filling Curves , A New Quadtree Decomposition Reconstruction Method\"\n",
      "1997\t\"Multimedia Directory 1997 , Elsevier's Dictionary of Wild and Cultivated Plants\"\n",
      "1999\t\"Electronic Engineer's Handbook (Core Handbook CD-ROMs)\"\n",
      "2000\t\"Exploring Macintosh Concepts in Visually Oriented Computing & Computing Concepts for End Users , Tips and Tuning Guide for MS Flight Simulator 2000\"\n",
      "2001\t\"Conker's Bad Fur Day (Prima's Official Strategy Guide)\"\n",
      "2002\t\"ECDL Advanced\"\n",
      "2003\t\"A+ Certification Core Hardware (Text & Lab Manual) , Start with a Digital Camera (Special Edition) (2nd Edition) (Start with a) , Guia Visual de Microsoft Office 2000\\/ Microsoft Office 2000 Visual Guide (Guias Visuales) , KeyChamp 2.0 Macintosh Site License Package\"\n",
      "2004\t\"Program Evaluation: Improving The Flow Of Information To The Congress , ExamInsight For MCP \\/ MCSE Certification: Installing, Configuring, and Administering Microsoft Windows XP Professional Exam 70-270 (ExamInsight) , Ibook Fan Book: Smart and Beautiful to Boot (Ibook Fan Books) , GO Series: Microsoft Excel 2003 Volume 2 (Go With Microsoft Office) , Data Structures , Adaptive Multimedia Retrieval: First International Workshop, AMR 2003, Hamburg, Germany, September 15-16, 2003, Revised Selected and Invited Papers (Lecture Notes in Computer Science) , The Prentice Hall Planner for Student Success , Keno Winner: A Guide To Winning At Video Keno , Microsoft Powerpoint 2003 (Marquee Series)\"\n",
      "2005\t\"Dude, You Can Do It! How to Build a Sweeet PC , Linspire 5.0: The No Nonsense Guide! (No Nonsense Guide! series) , Federated Identity Management And Web Services Security With IBM Tivoli Security Solutions , Open Process Frameworks: Patterns for the Adaptive e-Enterprise (Practitioners) , ASIS&T Thesaurus of Information Science, Technology, And Librarianship (Asist Monograph Series) , Call of Duty 2: Big Red One(tm) Official Strategy Guide (Official Strategy Guides) , Special Edition Using Adobe Creative Suite 2 (Special Edition Using) , Computer Models of Musical Creativity , Microsoft Word 2003 Advanced , Gungrave: 2006 Wall Calendar , Essentials for Design Adobe Illustrator CS 2 - Level 1 (2nd Edition) (Essentials for Design) , The Game Producer's Handbook , Visual Basic 2005 Demystified, 1 edition , Oracle 10g PL\\/SQL: Guia de Consulta R\\u00e1pida\"\n",
      "2006\t\"Automated Deduction in Geometry , What Every Programmer Needs to Know about Security (Advances in information Security) , Interpreting Kullback-Leibler divergence with the Neyman-earson lemma , Digital Media: Transformations in Human Communication , Adaptive Hypermedia and Adaptive Web-Based Systems , Approximating fluid schedules in crossbar packet-switches and Banyan networks , Inside Microsoft Dynamics AX 4.0 , Wiley Plus\\/Web CT Stand-alone to accompany Java Concepts (Wiley Plus Products) , Modeling methodology b: distributed simulation and the high level architecture , Beginning Ruby on Rails (Wrox Beginning Guides) , SUSE Linux Enterprise Server Administration (Course 3037) , An Integrative Modelling Approach for Simulation and Analysis of Adaptive Agents , Computer Accounting with QuickBooks 2006 , Class-specific feature polynomial classifier for pattern classification and its application to handwritten numeral recognition , F.E.A.R.: First Encounter Assault Recon (Prima Official Game Guide) , Effects of reward expectancy on sequential eye movements in monkeys , Computer Concepts Illustrated Complete, Sixth Edition (Illustrated (Thompson Learning)) , Windows Vista All-in-One Desk Reference For Dummies (For Dummies (Computer\\/Tech)) , DV Filmmaking: From Start to Finish (O'Reilly Digital Studio) , Hands-On Guide to Video Blogging and Podcasting: Emerging Media Tools for Business Communication (Hands-on Guide) , Mage Knight(tm): Apocalypse Official Strategy Guide (Official Strategy Guides) , The Effect of Faults on Network Expansion , Mesoscopic simulation of Ostwald ripening , Gurus, Hired Guns, and Warm Bodies: Itinerant Experts in a Knowledge Economy , Selected Areas in Cryptography: 12th International Workshop, SAC 2005, Kingston, ON, Canada, August 11-12, 2005, Revised Selected Papers (Lecture Notes in Computer Science) , Real World Aperture (Real World) , Making Projects Critical (Management, Work and Organisations) , Three-Level Caching for Efficient Query Processing in Large Web Search Engines , Creative Code: \\u00c4sthetik und Programmierung am MIT Media Lab , On an initial transient deletion rule with rigorous theoretical support , MICAI 2006: Advances in Artificial Intelligence: 5th Mexican International Conference on Artificial IntelligenceApizaco, Mexico, November 13-17, 2006Proceedings (Lecture Notes in Computer Science) , Special issue: Dialog systems for health communications\"\n",
      "2007\t\"Performance engineering in industry: current practices and adoption challenges , TOPP---the OpenMS proteomics pipeline , Webbots, Spiders, and Screen Scrapers , Podcasting for Profit: A Proven 10-Step Plan for Generating Income Through Audio and Video Podcasting , Introduction to Information Systems , A method to compute distance between two categorical values of same attribute in unsupervised learning for categorical data set , Database Modeling in Biology: Practices and Challenges , The Internet: A Critical Introduction , Java for Everyone , CompTIA A+ Exam Cram (Exams 220-602, 220-603, 220-604) (Exam Cram)\"\n"
     ]
    },
    {
     "name": "stderr",
     "output_type": "stream",
     "text": [
      "No configs found; falling back on auto-configuration\n",
      "No configs specified for inline runner\n",
      "Creating temp directory C:\\Users\\PC\\AppData\\Local\\Temp\\rc2.PC.20240212.161631.517394\n",
      "Running step 1 of 1...\n",
      "job output is in C:\\Users\\PC\\AppData\\Local\\Temp\\rc2.PC.20240212.161631.517394\\output\n",
      "Streaming final output from C:\\Users\\PC\\AppData\\Local\\Temp\\rc2.PC.20240212.161631.517394\\output...\n",
      "Removing temp directory C:\\Users\\PC\\AppData\\Local\\Temp\\rc2.PC.20240212.161631.517394...\n"
     ]
    }
   ],
   "source": [
    "!python rc2.py citation.txt"
   ]
  },
  {
   "cell_type": "code",
   "execution_count": 365,
   "id": "da665ab3",
   "metadata": {},
   "outputs": [
    {
     "name": "stderr",
     "output_type": "stream",
     "text": [
      "No configs found; falling back on auto-configuration\n",
      "No configs specified for inline runner\n",
      "Creating temp directory C:\\Users\\PC\\AppData\\Local\\Temp\\rc2.PC.20240212.181026.514376\n",
      "Running step 1 of 1...\n",
      "job output is in C:\\Users\\PC\\AppData\\Local\\Temp\\rc2.PC.20240212.181026.514376\\output\n",
      "Streaming final output from C:\\Users\\PC\\AppData\\Local\\Temp\\rc2.PC.20240212.181026.514376\\output...\n",
      "Removing temp directory C:\\Users\\PC\\AppData\\Local\\Temp\\rc2.PC.20240212.181026.514376...\n"
     ]
    }
   ],
   "source": [
    "!python rc2.py citation.txt > output_rc2.txt"
   ]
  },
  {
   "cell_type": "markdown",
   "id": "160db0e6",
   "metadata": {},
   "source": [
    "# Part 3"
   ]
  },
  {
   "cell_type": "code",
   "execution_count": 256,
   "id": "812a9c54",
   "metadata": {},
   "outputs": [
    {
     "name": "stdout",
     "output_type": "stream",
     "text": [
      "Overwriting rc3.py\n"
     ]
    }
   ],
   "source": [
    "%%file rc3.py\n",
    "from mrjob.job import MRJob\n",
    "import re\n",
    "\n",
    "class Part3(MRJob):\n",
    "    def mapper_init(self):\n",
    "        self.co_authors= {}\n",
    "    def mapper(self, _, line):\n",
    "        authors_match = re.search(r'#@\\s*(.*)#t', line)\n",
    "        if authors_match:\n",
    "            authors = authors_match.group(1).split(',')\n",
    "            for author in authors:\n",
    "                author = author.strip()\n",
    "                if author not in self.co_authors:\n",
    "                    self.co_authors[author] = set()\n",
    "                self.co_authors[author].update(set(authors) - {author})   \n",
    "    def mapper_final(self):\n",
    "        for author, co_authors in self.co_authors.items():\n",
    "            if author:\n",
    "                yield author, list(co_authors)\n",
    "    def reducer(self, author, co_authors_lists):\n",
    "        co_authors = set()\n",
    "        for co_authors_list in co_authors_lists:\n",
    "            co_authors.update(co_authors_list)\n",
    "        yield author, list(co_authors)\n",
    "\n",
    "if __name__ == '__main__':\n",
    "    Part3.run()\n",
    "\n"
   ]
  },
  {
   "cell_type": "code",
   "execution_count": 257,
   "id": "183bf1bb",
   "metadata": {},
   "outputs": [
    {
     "name": "stdout",
     "output_type": "stream",
     "text": [
      "\"A. Krzyzak\"\t[\"E. Skubalska-Rafajtowicz\"]\n",
      "\"Ahmed Hassan\"\t[\"Parminder Flora\"]\n",
      "\"Alexander Gelbukh\"\t[\"Carlos Alberto Reyes-Garcia \"]\n",
      "\"Alice Redmond-neal\"\t[\"Marjorie M. K. Hlava\"]\n",
      "\"Allan Hunkin\"\t[]\n",
      "\"Amir Ahmad\"\t[\"Lipika Dey \"]\n",
      "\"Amitabh Chaudhary\"\t[\"Christian Scheideler \",\"Ankur Bhargava\",\"Amitabha Bagchi\",\"David Eppstein\"]\n",
      "\"Amitabha Bagchi\"\t[\"Christian Scheideler \",\"Ankur Bhargava\",\"Amitabh Chaudhary\",\"David Eppstein\"]\n",
      "\"Andreas N\\u00fcrnberger\"\t[\"Marcin Detyniecki \"]\n",
      "\"Anita Kesavan\"\t[\"Neil Daswani\"]\n",
      "\"Ankur Bhargava\"\t[\"Christian Scheideler \",\"Amitabh Chaudhary\",\"Amitabha Bagchi\",\"David Eppstein\"]\n",
      "\"Arthur Greef\"\t[\"Hans J. Skovgaard\",\"Michael Fruergaard Pontoppidan\",\"Palle Agermark\",\"Lars Dragheim Olsen\"]\n",
      "\"Axel Bucker\"\t[]\n",
      "\"Barry Smyth\"\t[\"Vincent Wade\",\"Helen Ashman\"]\n",
      "\"Bart Preneel\"\t[\"Bart Preneel \"]\n",
      "\"Ben Long\"\t[\"Ben Long \"]\n",
      "\"Brenden Munnelly\"\t[\"Paul Holden \"]\n",
      "\"Bruce Shriver\"\t[\"Ted Lewis\",\"Bruce Shriver \"]\n",
      "\"Carla Rose\"\t[\"Carla Rose \"]\n",
      "\"Carlito Vicencio\"\t[\"Darrel Creacy\"]\n",
      "\"Carlos Alberto Reyes-Garcia\"\t[\"Carlos Alberto Reyes-Garcia \",\"Alexander Gelbukh\"]\n",
      "\"Catholijn M. Jonker\"\t[\"Jan Treur\",\"Tibor Bosse\"]\n",
      "\"Cay S. Horstmann\"\t[\"Cay S. Horstmann \"]\n",
      "\"Celso H. Poderoso de Oliveira\"\t[\"Celso H. Poderoso de Oliveira \"]\n",
      "\"Charles J. Brooks\"\t[\"Charles J. Brooks \"]\n",
      "\"Charles S. Wetherell\"\t[\" Jr.\",\"Charles S. Wetherell \",\"James R. McGraw\",\"Lyle A. Cox\"]\n",
      "\"Cheng-Lin Liu\"\t[\" Hiroshi Sako\"]\n",
      "\"Christian Scheideler\"\t[\"Christian Scheideler \",\"Amitabh Chaudhary\",\"David Eppstein\",\"Ankur Bhargava\",\"Amitabha Bagchi\"]\n",
      "\"Clemens Gr\\u00f6pl\"\t[\"Nico Pfeifer\",\"Eva Lange\",\"Oliver Kohlbacher\",\"Knut Reinert\",\"Ole Schulz-Trieglaff\",\"Marc Sturm\"]\n",
      "\"Constantine Caramanis\"\t[\"Vahid Tarokh\",\"Michel X. Goemans\",\"Michael Rosenblum\"]\n",
      "\"Daeyeol Lee\"\t[\"Daeyeol Lee \",\"Jeong-woo Sohn\"]\n",
      "\"Damian Hodgson\"\t[\"Svetlana Cicmil \"]\n",
      "\"Damien Stolarz\"\t[\"Damien Stolarz \",\"Lionel Felix\"]\n",
      "\"Dan Irish\"\t[\"Dan Irish \"]\n",
      "\"Dan Oja\"\t[\"Dan Oja \",\"June Jamrich Parsons\"]\n",
      "\"Darrel Creacy\"\t[\"Carlito Vicencio\"]\n",
      "\"David A. Marca\"\t[]\n",
      "\"David Cope\"\t[\"David Cope \"]\n",
      "\"David Eppstein\"\t[\"Christian Scheideler \",\"Ankur Bhargava\",\"Amitabh Chaudhary\",\"Amitabha Bagchi\"]\n",
      "\"David J. Horntrop\"\t[\"David J. Horntrop \"]\n",
      "\"David M. Lane\"\t[]\n",
      "\"Dean Bagley\"\t[\"Dean Bagley \"]\n",
      "\"Deborah Timmons\"\t[\"Deborah Timmons \"]\n",
      "\"Denise Seguin\"\t[\"Nita Hewitt Rutkosky\",\"Denise Seguin \"]\n",
      "\"Derrick Story\"\t[\"Derrick Story \"]\n",
      "\"Donald Christiansen\"\t[]\n",
      "\"Dongming Wang\"\t[\"Hoon Hong\"]\n",
      "\"Donna Ulmer\"\t[]\n",
      "\"E. Skubalska-Rafajtowicz\"\t[\"A. Krzyzak\"]\n",
      "\"Eric Grebler\"\t[]\n",
      "\"Eva Lange\"\t[\"Nico Pfeifer\",\"Oliver Kohlbacher\",\"Knut Reinert\",\"Ole Schulz-Trieglaff\",\"Marc Sturm\",\"Clemens Gr\\u00f6pl\"]\n",
      "\"Gene Orwell\"\t[]\n",
      "\"Gideon Kunda\"\t[\"Stephen R. Barley\",\"Gideon Kunda \"]\n",
      "\"Hans J. Skovgaard\"\t[\"Arthur Greef\",\"Michael Fruergaard Pontoppidan\",\"Palle Agermark\",\"Lars Dragheim Olsen\"]\n",
      "\"Helen Ashman\"\t[\"Vincent Wade\",\"Barry Smyth\"]\n",
      "\"Hernan P. Awad\"\t[\"Peter W. Glynn \"]\n",
      "\"Hiroshi Sako\"\t[\"Cheng-Lin Liu\",\" Hiroshi Sako\"]\n",
      "\"Hoon Hong\"\t[\"Dongming Wang\"]\n",
      "\"Ian David Aronson\"\t[]\n",
      "\"J. Knipe\"\t[\"X. Li\"]\n",
      "\"Jake Chen\"\t[\"Zongmin Ma\",\"Jake Chen \"]\n",
      "\"James R. McGraw\"\t[\" Jr.\",\"Charles S. Wetherell \",\"Lyle A. Cox\"]\n",
      "\"Jan Treur\"\t[\"Catholijn M. Jonker\",\"Tibor Bosse\"]\n",
      "\"Jason Eckert\"\t[]\n",
      "\"Jeff Kent\"\t[\"Jeff Kent \"]\n",
      "\"Jeong-woo Sohn\"\t[\"Daeyeol Lee \"]\n",
      "\"John Blaint\"\t[]\n",
      "\"John Copas\"\t[\"Shinto Eguchi\"]\n",
      "\"John Etchemendy\"\t[\"Jon Barwise\",\"John Etchemendy \"]\n",
      "\"John Maeda\"\t[\"Red Burns \"]\n",
      "\"John Odam\"\t[]\n",
      "\"John Preston\"\t[\"Shelley Gaskin\",\"Sally Preston \"]\n",
      "\"John R. Mick\"\t[]\n",
      "\"Jon Barwise\"\t[\"John Etchemendy \"]\n",
      "\"Jose Pedro Llamazares\"\t[]\n",
      "\"Jr.\"\t[\" Jr.\",\"Charles S. Wetherell \",\"James R. McGraw\",\"Lyle A. Cox\"]\n",
      "\"June Jamrich Parsons\"\t[\"Dan Oja \"]\n",
      "\"Ken Abernethy\"\t[\"Ken Abernethy \"]\n",
      "\"Knut Reinert\"\t[\"Nico Pfeifer\",\"Eva Lange\",\"Oliver Kohlbacher\",\"Ole Schulz-Trieglaff\",\"Marc Sturm\",\"Clemens Gr\\u00f6pl\"]\n",
      "\"Korinna Patelis\"\t[\"Korinna Patelis \"]\n",
      "\"Lars Dragheim Olsen\"\t[\"Arthur Greef\",\"Hans J. Skovgaard\",\"Michael Fruergaard Pontoppidan\",\"Palle Agermark\"]\n",
      "\"Lee Humphreys\"\t[\"Paul Messaris\"]\n",
      "\"Lionel Felix\"\t[\"Damien Stolarz \"]\n",
      "\"Lipika Dey\"\t[\"Lipika Dey \",\"Amir Ahmad\"]\n",
      "\"Lyle A. Cox\"\t[\" Jr.\",\"James R. McGraw\",\"Charles S. Wetherell \"]\n",
      "\"Marc Sturm\"\t[\"Nico Pfeifer\",\"Eva Lange\",\"Oliver Kohlbacher\",\"Knut Reinert\",\"Ole Schulz-Trieglaff\",\"Clemens Gr\\u00f6pl\"]\n",
      "\"Marcin Detyniecki\"\t[\"Andreas N\\u00fcrnberger\",\"Marcin Detyniecki \"]\n",
      "\"Marjorie M. K. Hlava\"\t[\"Alice Redmond-neal\"]\n",
      "\"Michael Cloran\"\t[\"Michael Cloran \"]\n",
      "\"Michael Fruergaard Pontoppidan\"\t[\"Arthur Greef\",\"Hans J. Skovgaard\",\"Palle Agermark\",\"Lars Dragheim Olsen\"]\n",
      "\"Michael Rosenblum\"\t[\"Constantine Caramanis\",\"Vahid Tarokh\",\"Michel X. Goemans\"]\n",
      "\"Michael Schrenk\"\t[\"Michael Shrenk\"]\n",
      "\"Michael Shrenk\"\t[\"Michael Schrenk\"]\n",
      "\"Michael Smick\"\t[]\n",
      "\"Michael T. Goodrich\"\t[\"Michael T. Goodrich \"]\n",
      "\"Michel X. Goemans\"\t[\"Constantine Caramanis\",\"Vahid Tarokh\",\"Michael Rosenblum\"]\n",
      "\"Neil Daswani\"\t[\"Anita Kesavan\"]\n",
      "\"Nico Pfeifer\"\t[\"Eva Lange\",\"Oliver Kohlbacher\",\"Knut Reinert\",\"Ole Schulz-Trieglaff\",\"Marc Sturm\",\"Clemens Gr\\u00f6pl\"]\n",
      "\"Nightow Yoshiro\"\t[\"Nightow Yoshiro \"]\n",
      "\"Nita Hewitt Rutkosky\"\t[\"Denise Seguin \"]\n",
      "\"Ole Schulz-Trieglaff\"\t[\"Nico Pfeifer\",\"Eva Lange\",\"Oliver Kohlbacher\",\"Knut Reinert\",\"Marc Sturm\",\"Clemens Gr\\u00f6pl\"]\n",
      "\"Oliver Kohlbacher\"\t[\"Nico Pfeifer\",\"Eva Lange\",\"Knut Reinert\",\"Ole Schulz-Trieglaff\",\"Marc Sturm\",\"Clemens Gr\\u00f6pl\"]\n",
      "\"Palle Agermark\"\t[\"Arthur Greef\",\"Hans J. Skovgaard\",\"Michael Fruergaard Pontoppidan\",\"Lars Dragheim Olsen\"]\n",
      "\"Pamela W. Adams\"\t[\"Pamela W. Adams \"]\n",
      "\"Parminder Flora\"\t[\"Ahmed Hassan\"]\n",
      "\"Paul Holden\"\t[\"Paul Holden \",\"Brenden Munnelly\"]\n",
      "\"Paul Messaris\"\t[\"Lee Humphreys\"]\n",
      "\"Peter W. Glynn\"\t[\"Hernan P. Awad\",\"Peter W. Glynn \"]\n",
      "\"R. Kelly Rainer\"\t[]\n",
      "\"Red Burns\"\t[\"Red Burns \",\"John Maeda\"]\n",
      "\"Ron Dulin\"\t[\"Ron Dulin \"]\n",
      "\"Rudolph Langer\"\t[\"Rudolph Langer \"]\n",
      "\"Sally Preston\"\t[\"Shelley Gaskin\",\"Sally Preston \",\"John Preston\"]\n",
      "\"Shelley Gaskin\"\t[\"Sally Preston \",\"John Preston\"]\n",
      "\"Shinto Eguchi\"\t[\"John Copas\"]\n",
      "\"Stanley Habib\"\t[]\n",
      "\"Stephen R. Barley\"\t[\"Gideon Kunda \"]\n",
      "\"Steve Holzner\"\t[]\n",
      "\"Svetlana Cicmil\"\t[\"Svetlana Cicmil \",\"Damian Hodgson\"]\n",
      "\"Ted Lewis\"\t[\"Bruce Shriver \"]\n",
      "\"Tibor Bosse\"\t[\"Catholijn M. Jonker\",\"Jan Treur\"]\n",
      "\"Tom Collins\"\t[\"Tom Collins \"]\n",
      "\"Torsten Suel\"\t[\"Xiaohui Long\",\"Torsten Suel \"]\n",
      "\"Vahid Tarokh\"\t[\"Constantine Caramanis\",\"Michel X. Goemans\",\"Michael Rosenblum\"]\n",
      "\"Vincent Wade\"\t[\"Helen Ashman\",\"Barry Smyth\"]\n",
      "\"W. E. Clason\"\t[\"W. E. Clason \"]\n",
      "\"Wayne L. Winston\"\t[\"Wayne L. Winston \"]\n",
      "\"William J. Tracz\"\t[\"William J. Tracz \"]\n",
      "\"Woody Leonhard\"\t[\"Woody Leonhard \"]\n",
      "\"X. Li\"\t[\"J. Knipe\"]\n",
      "\"Xiaohui Long\"\t[\"Torsten Suel \"]\n",
      "\"Zongmin Ma\"\t[\"Jake Chen \"]\n"
     ]
    },
    {
     "name": "stderr",
     "output_type": "stream",
     "text": [
      "No configs found; falling back on auto-configuration\n",
      "No configs specified for inline runner\n",
      "Creating temp directory C:\\Users\\PC\\AppData\\Local\\Temp\\rc3.PC.20240212.163813.150318\n",
      "Running step 1 of 1...\n",
      "job output is in C:\\Users\\PC\\AppData\\Local\\Temp\\rc3.PC.20240212.163813.150318\\output\n",
      "Streaming final output from C:\\Users\\PC\\AppData\\Local\\Temp\\rc3.PC.20240212.163813.150318\\output...\n",
      "Removing temp directory C:\\Users\\PC\\AppData\\Local\\Temp\\rc3.PC.20240212.163813.150318...\n"
     ]
    }
   ],
   "source": [
    "!python rc3.py citation.txt"
   ]
  },
  {
   "cell_type": "code",
   "execution_count": 366,
   "id": "a6ec4f60",
   "metadata": {},
   "outputs": [
    {
     "name": "stderr",
     "output_type": "stream",
     "text": [
      "No configs found; falling back on auto-configuration\n",
      "No configs specified for inline runner\n",
      "Creating temp directory C:\\Users\\PC\\AppData\\Local\\Temp\\rc3.PC.20240212.181109.229094\n",
      "Running step 1 of 1...\n",
      "job output is in C:\\Users\\PC\\AppData\\Local\\Temp\\rc3.PC.20240212.181109.229094\\output\n",
      "Streaming final output from C:\\Users\\PC\\AppData\\Local\\Temp\\rc3.PC.20240212.181109.229094\\output...\n",
      "Removing temp directory C:\\Users\\PC\\AppData\\Local\\Temp\\rc3.PC.20240212.181109.229094...\n"
     ]
    }
   ],
   "source": [
    "!python rc3.py citation.txt > output_rc3.txt"
   ]
  },
  {
   "cell_type": "markdown",
   "id": "528bcc53",
   "metadata": {},
   "source": [
    "# Part 4"
   ]
  },
  {
   "cell_type": "code",
   "execution_count": 264,
   "id": "6908b7d7",
   "metadata": {},
   "outputs": [
    {
     "name": "stdout",
     "output_type": "stream",
     "text": [
      "Overwriting rc4.py\n"
     ]
    }
   ],
   "source": [
    "%%file rc4.py\n",
    "from mrjob.job import MRJob\n",
    "import re\n",
    "\n",
    "class PaperCount(MRJob):\n",
    "\n",
    "    def mapper_init(self):\n",
    "        self.publish_counts = {}\n",
    "    def mapper(self, _, line):\n",
    "        year_match = re.search(r'#t(\\d+)', line)\n",
    "        if year_match:\n",
    "            year = int(year_match.group(1))\n",
    "            if year not in self.publish_counts:\n",
    "                self.publish_counts[year] = 0\n",
    "            self.publish_counts[year] += 1\n",
    "\n",
    "    def mapper_final(self):\n",
    "        for year, count in self.publish_counts.items():\n",
    "            yield year, (count,1)\n",
    "\n",
    "    def reducer(self, year, counts):\n",
    "        total_papers = 0\n",
    "        total_years = 0\n",
    "        for count,i in counts:\n",
    "            total_years += 1\n",
    "            total_papers += count\n",
    "        avg = total_papers / total_years\n",
    "        yield year, avg\n",
    "\n",
    "if __name__ == '__main__':\n",
    "    PaperCount.run()\n"
   ]
  },
  {
   "cell_type": "code",
   "execution_count": 265,
   "id": "a061d778",
   "metadata": {},
   "outputs": [
    {
     "name": "stdout",
     "output_type": "stream",
     "text": [
      "1973\t1.0\n",
      "1975\t1.0\n",
      "1976\t1.0\n",
      "1978\t1.0\n",
      "1982\t1.0\n",
      "1985\t1.0\n",
      "1987\t1.0\n",
      "1991\t1.0\n",
      "1993\t1.0\n",
      "1994\t1.5\n",
      "1995\t1.0\n",
      "1996\t1.0\n",
      "1997\t1.0\n",
      "1999\t1.0\n",
      "2000\t1.0\n",
      "2001\t1.0\n",
      "2002\t1.0\n",
      "2003\t1.3333333333333333\n",
      "2004\t1.8\n",
      "2005\t2.5714285714285716\n",
      "2006\t4.5\n",
      "2007\t1.375\n"
     ]
    },
    {
     "name": "stderr",
     "output_type": "stream",
     "text": [
      "No configs found; falling back on auto-configuration\n",
      "No configs specified for inline runner\n",
      "Creating temp directory C:\\Users\\PC\\AppData\\Local\\Temp\\rc4.PC.20240212.170319.811171\n",
      "Running step 1 of 1...\n",
      "job output is in C:\\Users\\PC\\AppData\\Local\\Temp\\rc4.PC.20240212.170319.811171\\output\n",
      "Streaming final output from C:\\Users\\PC\\AppData\\Local\\Temp\\rc4.PC.20240212.170319.811171\\output...\n",
      "Removing temp directory C:\\Users\\PC\\AppData\\Local\\Temp\\rc4.PC.20240212.170319.811171...\n"
     ]
    }
   ],
   "source": [
    "!python rc4.py citation.txt"
   ]
  },
  {
   "cell_type": "code",
   "execution_count": 367,
   "id": "5ba74604",
   "metadata": {},
   "outputs": [
    {
     "name": "stderr",
     "output_type": "stream",
     "text": [
      "No configs found; falling back on auto-configuration\n",
      "No configs specified for inline runner\n",
      "Creating temp directory C:\\Users\\PC\\AppData\\Local\\Temp\\rc4.PC.20240212.181130.248212\n",
      "Running step 1 of 1...\n",
      "job output is in C:\\Users\\PC\\AppData\\Local\\Temp\\rc4.PC.20240212.181130.248212\\output\n",
      "Streaming final output from C:\\Users\\PC\\AppData\\Local\\Temp\\rc4.PC.20240212.181130.248212\\output...\n",
      "Removing temp directory C:\\Users\\PC\\AppData\\Local\\Temp\\rc4.PC.20240212.181130.248212...\n"
     ]
    }
   ],
   "source": [
    "!python rc4.py citation.txt > output_rc4.txt"
   ]
  },
  {
   "cell_type": "markdown",
   "id": "6b412561",
   "metadata": {},
   "source": [
    "# Part 5"
   ]
  },
  {
   "cell_type": "code",
   "execution_count": 323,
   "id": "70c94520",
   "metadata": {},
   "outputs": [
    {
     "name": "stdout",
     "output_type": "stream",
     "text": [
      "Overwriting rc5.py\n"
     ]
    }
   ],
   "source": [
    "%%file rc5.py\n",
    "from mrjob.job import MRJob\n",
    "import re\n",
    "\n",
    "class Part5(MRJob):\n",
    "\n",
    "    def mapper_init(self):\n",
    "        self.author_counts = {}\n",
    "\n",
    "    def mapper(self, _, line):\n",
    "        author_match = re.search(r'#@\\s*(.*)#t', line)\n",
    "        if author_match:\n",
    "            authors = author_match.group(1).split(',')\n",
    "            for author in authors:\n",
    "                author = author.strip()\n",
    "                if author not in self.author_counts:\n",
    "                    self.author_counts[author] = 0\n",
    "                self.author_counts[author] += 1\n",
    "\n",
    "    def mapper_final(self):\n",
    "        for author, count in self.author_counts.items():\n",
    "            yield None, (author, count)\n",
    "\n",
    "    def reducer(self, _, author_counts):\n",
    "        author_counts = list(author_counts)\n",
    "\n",
    "        max_papers = 0\n",
    "        max_authors = []\n",
    "\n",
    "        for author, count in author_counts:\n",
    "            if author:  \n",
    "                if count > max_papers:\n",
    "                    max_papers = count\n",
    "\n",
    "        for author, count in author_counts:\n",
    "            if count == max_papers and author:  \n",
    "                max_authors.append(author)\n",
    "\n",
    "        if max_authors:\n",
    "            for author in max_authors:\n",
    "                yield \"Author(s) with the maximum number of papers:\", author\n",
    "        else:\n",
    "            yield \"No authors found with the maximum number of papers:\", \"\"\n",
    "\n",
    "if __name__ == '__main__':\n",
    "    Part5.run()\n",
    "\n",
    "   \n",
    "\n"
   ]
  },
  {
   "cell_type": "code",
   "execution_count": 368,
   "id": "770572cb",
   "metadata": {},
   "outputs": [
    {
     "name": "stdout",
     "output_type": "stream",
     "text": [
      "\"Author(s) with the maximum number of papers:\"\t\"Hoon Hong\"\n",
      "\"Author(s) with the maximum number of papers:\"\t\"Dongming Wang\"\n",
      "\"Author(s) with the maximum number of papers:\"\t\"Charles J. Brooks\"\n",
      "\"Author(s) with the maximum number of papers:\"\t\"Ahmed Hassan\"\n",
      "\"Author(s) with the maximum number of papers:\"\t\"Parminder Flora\"\n",
      "\"Author(s) with the maximum number of papers:\"\t\"Darrel Creacy\"\n",
      "\"Author(s) with the maximum number of papers:\"\t\"Carlito Vicencio\"\n",
      "\"Author(s) with the maximum number of papers:\"\t\"Neil Daswani\"\n",
      "\"Author(s) with the maximum number of papers:\"\t\"Anita Kesavan\"\n",
      "\"Author(s) with the maximum number of papers:\"\t\"Shinto Eguchi\"\n",
      "\"Author(s) with the maximum number of papers:\"\t\"John Copas\"\n",
      "\"Author(s) with the maximum number of papers:\"\t\"Lee Humphreys\"\n",
      "\"Author(s) with the maximum number of papers:\"\t\"Paul Messaris\"\n",
      "\"Author(s) with the maximum number of papers:\"\t\"Oliver Kohlbacher\"\n",
      "\"Author(s) with the maximum number of papers:\"\t\"Knut Reinert\"\n",
      "\"Author(s) with the maximum number of papers:\"\t\"Clemens Gr\\u00f6pl\"\n",
      "\"Author(s) with the maximum number of papers:\"\t\"Eva Lange\"\n",
      "\"Author(s) with the maximum number of papers:\"\t\"Nico Pfeifer\"\n",
      "\"Author(s) with the maximum number of papers:\"\t\"Ole Schulz-Trieglaff\"\n",
      "\"Author(s) with the maximum number of papers:\"\t\"Marc Sturm\"\n",
      "\"Author(s) with the maximum number of papers:\"\t\"John Blaint\"\n",
      "\"Author(s) with the maximum number of papers:\"\t\"Vincent Wade\"\n",
      "\"Author(s) with the maximum number of papers:\"\t\"Helen Ashman\"\n",
      "\"Author(s) with the maximum number of papers:\"\t\"Barry Smyth\"\n",
      "\"Author(s) with the maximum number of papers:\"\t\"Michael Schrenk\"\n",
      "\"Author(s) with the maximum number of papers:\"\t\"Michael Shrenk\"\n",
      "\"Author(s) with the maximum number of papers:\"\t\"E. Skubalska-Rafajtowicz\"\n",
      "\"Author(s) with the maximum number of papers:\"\t\"A. Krzyzak\"\n",
      "\"Author(s) with the maximum number of papers:\"\t\"Eric Grebler\"\n",
      "\"Author(s) with the maximum number of papers:\"\t\"Allan Hunkin\"\n",
      "\"Author(s) with the maximum number of papers:\"\t\"Michael Rosenblum\"\n",
      "\"Author(s) with the maximum number of papers:\"\t\"Constantine Caramanis\"\n",
      "\"Author(s) with the maximum number of papers:\"\t\"Michel X. Goemans\"\n",
      "\"Author(s) with the maximum number of papers:\"\t\"Vahid Tarokh\"\n",
      "\"Author(s) with the maximum number of papers:\"\t\"Axel Bucker\"\n",
      "\"Author(s) with the maximum number of papers:\"\t\"John Odam\"\n",
      "\"Author(s) with the maximum number of papers:\"\t\"David A. Marca\"\n",
      "\"Author(s) with the maximum number of papers:\"\t\"Alice Redmond-neal\"\n",
      "\"Author(s) with the maximum number of papers:\"\t\"Marjorie M. K. Hlava\"\n",
      "\"Author(s) with the maximum number of papers:\"\t\"Donald Christiansen\"\n",
      "\"Author(s) with the maximum number of papers:\"\t\"Arthur Greef\"\n",
      "\"Author(s) with the maximum number of papers:\"\t\"Michael Fruergaard Pontoppidan\"\n",
      "\"Author(s) with the maximum number of papers:\"\t\"Lars Dragheim Olsen\"\n",
      "\"Author(s) with the maximum number of papers:\"\t\"Palle Agermark\"\n",
      "\"Author(s) with the maximum number of papers:\"\t\"Hans J. Skovgaard\"\n",
      "\"Author(s) with the maximum number of papers:\"\t\"Cay S. Horstmann\"\n",
      "\"Author(s) with the maximum number of papers:\"\t\"Steve Holzner\"\n",
      "\"Author(s) with the maximum number of papers:\"\t\"R. Kelly Rainer\"\n",
      "\"Author(s) with the maximum number of papers:\"\t\"Jason Eckert\"\n",
      "\"Author(s) with the maximum number of papers:\"\t\"David M. Lane\"\n",
      "\"Author(s) with the maximum number of papers:\"\t\"Tibor Bosse\"\n",
      "\"Author(s) with the maximum number of papers:\"\t\"Catholijn M. Jonker\"\n",
      "\"Author(s) with the maximum number of papers:\"\t\"Jan Treur\"\n",
      "\"Author(s) with the maximum number of papers:\"\t\"Stanley Habib\"\n",
      "\"Author(s) with the maximum number of papers:\"\t\"J. Knipe\"\n",
      "\"Author(s) with the maximum number of papers:\"\t\"X. Li\"\n",
      "\"Author(s) with the maximum number of papers:\"\t\"Donna Ulmer\"\n",
      "\"Author(s) with the maximum number of papers:\"\t\"John R. Mick\"\n",
      "\"Author(s) with the maximum number of papers:\"\t\"Michael Smick\"\n",
      "\"Author(s) with the maximum number of papers:\"\t\"Gene Orwell\"\n",
      "\"Author(s) with the maximum number of papers:\"\t\"Jose Pedro Llamazares\"\n",
      "\"Author(s) with the maximum number of papers:\"\t\"Ted Lewis\"\n",
      "\"Author(s) with the maximum number of papers:\"\t\"Bruce Shriver\"\n",
      "\"Author(s) with the maximum number of papers:\"\t\"Ken Abernethy\"\n",
      "\"Author(s) with the maximum number of papers:\"\t\"Michael Cloran\"\n",
      "\"Author(s) with the maximum number of papers:\"\t\"Rudolph Langer\"\n",
      "\"Author(s) with the maximum number of papers:\"\t\"Cheng-Lin Liu\"\n",
      "\"Author(s) with the maximum number of papers:\"\t\"Hiroshi Sako\"\n",
      "\"Author(s) with the maximum number of papers:\"\t\"Ron Dulin\"\n",
      "\"Author(s) with the maximum number of papers:\"\t\"Jeong-woo Sohn\"\n",
      "\"Author(s) with the maximum number of papers:\"\t\"Daeyeol Lee\"\n",
      "\"Author(s) with the maximum number of papers:\"\t\"Amir Ahmad\"\n",
      "\"Author(s) with the maximum number of papers:\"\t\"Lipika Dey\"\n",
      "\"Author(s) with the maximum number of papers:\"\t\"Deborah Timmons\"\n",
      "\"Author(s) with the maximum number of papers:\"\t\"David Cope\"\n",
      "\"Author(s) with the maximum number of papers:\"\t\"June Jamrich Parsons\"\n",
      "\"Author(s) with the maximum number of papers:\"\t\"Dan Oja\"\n",
      "\"Author(s) with the maximum number of papers:\"\t\"Woody Leonhard\"\n",
      "\"Author(s) with the maximum number of papers:\"\t\"William J. Tracz\"\n",
      "\"Author(s) with the maximum number of papers:\"\t\"Ian David Aronson\"\n",
      "\"Author(s) with the maximum number of papers:\"\t\"Derrick Story\"\n",
      "\"Author(s) with the maximum number of papers:\"\t\"Shelley Gaskin\"\n",
      "\"Author(s) with the maximum number of papers:\"\t\"John Preston\"\n",
      "\"Author(s) with the maximum number of papers:\"\t\"Sally Preston\"\n",
      "\"Author(s) with the maximum number of papers:\"\t\"Michael T. Goodrich\"\n",
      "\"Author(s) with the maximum number of papers:\"\t\"Lionel Felix\"\n",
      "\"Author(s) with the maximum number of papers:\"\t\"Damien Stolarz\"\n",
      "\"Author(s) with the maximum number of papers:\"\t\"Brenden Munnelly\"\n",
      "\"Author(s) with the maximum number of papers:\"\t\"Paul Holden\"\n",
      "\"Author(s) with the maximum number of papers:\"\t\"Amitabha Bagchi\"\n",
      "\"Author(s) with the maximum number of papers:\"\t\"Ankur Bhargava\"\n",
      "\"Author(s) with the maximum number of papers:\"\t\"Amitabh Chaudhary\"\n",
      "\"Author(s) with the maximum number of papers:\"\t\"David Eppstein\"\n",
      "\"Author(s) with the maximum number of papers:\"\t\"Christian Scheideler\"\n",
      "\"Author(s) with the maximum number of papers:\"\t\"Zongmin Ma\"\n",
      "\"Author(s) with the maximum number of papers:\"\t\"Jake Chen\"\n",
      "\"Author(s) with the maximum number of papers:\"\t\"Pamela W. Adams\"\n",
      "\"Author(s) with the maximum number of papers:\"\t\"Andreas N\\u00fcrnberger\"\n",
      "\"Author(s) with the maximum number of papers:\"\t\"Marcin Detyniecki\"\n",
      "\"Author(s) with the maximum number of papers:\"\t\"David J. Horntrop\"\n",
      "\"Author(s) with the maximum number of papers:\"\t\"Nightow Yoshiro\"\n",
      "\"Author(s) with the maximum number of papers:\"\t\"Stephen R. Barley\"\n",
      "\"Author(s) with the maximum number of papers:\"\t\"Gideon Kunda\"\n",
      "\"Author(s) with the maximum number of papers:\"\t\"Bart Preneel\"\n",
      "\"Author(s) with the maximum number of papers:\"\t\"Lyle A. Cox\"\n",
      "\"Author(s) with the maximum number of papers:\"\t\"Jr.\"\n",
      "\"Author(s) with the maximum number of papers:\"\t\"James R. McGraw\"\n",
      "\"Author(s) with the maximum number of papers:\"\t\"Charles S. Wetherell\"\n",
      "\"Author(s) with the maximum number of papers:\"\t\"Tom Collins\"\n",
      "\"Author(s) with the maximum number of papers:\"\t\"Ben Long\"\n",
      "\"Author(s) with the maximum number of papers:\"\t\"Damian Hodgson\"\n",
      "\"Author(s) with the maximum number of papers:\"\t\"Svetlana Cicmil\"\n",
      "\"Author(s) with the maximum number of papers:\"\t\"Korinna Patelis\"\n",
      "\"Author(s) with the maximum number of papers:\"\t\"Carla Rose\"\n",
      "\"Author(s) with the maximum number of papers:\"\t\"Cay S. Horstmann\"\n",
      "\"Author(s) with the maximum number of papers:\"\t\"Xiaohui Long\"\n",
      "\"Author(s) with the maximum number of papers:\"\t\"Torsten Suel\"\n",
      "\"Author(s) with the maximum number of papers:\"\t\"Dean Bagley\"\n",
      "\"Author(s) with the maximum number of papers:\"\t\"Wayne L. Winston\"\n",
      "\"Author(s) with the maximum number of papers:\"\t\"John Maeda\"\n",
      "\"Author(s) with the maximum number of papers:\"\t\"Red Burns\"\n",
      "\"Author(s) with the maximum number of papers:\"\t\"Dan Irish\"\n",
      "\"Author(s) with the maximum number of papers:\"\t\"Jeff Kent\"\n",
      "\"Author(s) with the maximum number of papers:\"\t\"Celso H. Poderoso de Oliveira\"\n",
      "\"Author(s) with the maximum number of papers:\"\t\"Charles J. Brooks\"\n",
      "\"Author(s) with the maximum number of papers:\"\t\"Hernan P. Awad\"\n",
      "\"Author(s) with the maximum number of papers:\"\t\"Peter W. Glynn\"\n",
      "\"Author(s) with the maximum number of papers:\"\t\"Nita Hewitt Rutkosky\"\n",
      "\"Author(s) with the maximum number of papers:\"\t\"Denise Seguin\"\n",
      "\"Author(s) with the maximum number of papers:\"\t\"Alexander Gelbukh\"\n",
      "\"Author(s) with the maximum number of papers:\"\t\"Carlos Alberto Reyes-Garcia\"\n",
      "\"Author(s) with the maximum number of papers:\"\t\"Jon Barwise\"\n",
      "\"Author(s) with the maximum number of papers:\"\t\"John Etchemendy\"\n",
      "\"Author(s) with the maximum number of papers:\"\t\"W. E. Clason\"\n"
     ]
    },
    {
     "name": "stderr",
     "output_type": "stream",
     "text": [
      "No configs found; falling back on auto-configuration\n",
      "No configs specified for inline runner\n",
      "Creating temp directory C:\\Users\\PC\\AppData\\Local\\Temp\\rc5.PC.20240212.181146.194359\n",
      "Running step 1 of 1...\n",
      "job output is in C:\\Users\\PC\\AppData\\Local\\Temp\\rc5.PC.20240212.181146.194359\\output\n",
      "Streaming final output from C:\\Users\\PC\\AppData\\Local\\Temp\\rc5.PC.20240212.181146.194359\\output...\n",
      "Removing temp directory C:\\Users\\PC\\AppData\\Local\\Temp\\rc5.PC.20240212.181146.194359...\n"
     ]
    }
   ],
   "source": [
    "!python rc5.py citation.txt"
   ]
  },
  {
   "cell_type": "code",
   "execution_count": 370,
   "id": "b38c20eb",
   "metadata": {},
   "outputs": [
    {
     "name": "stderr",
     "output_type": "stream",
     "text": [
      "No configs found; falling back on auto-configuration\n",
      "No configs specified for inline runner\n",
      "Creating temp directory C:\\Users\\PC\\AppData\\Local\\Temp\\rc5.PC.20240212.181206.818999\n",
      "Running step 1 of 1...\n",
      "job output is in C:\\Users\\PC\\AppData\\Local\\Temp\\rc5.PC.20240212.181206.818999\\output\n",
      "Streaming final output from C:\\Users\\PC\\AppData\\Local\\Temp\\rc5.PC.20240212.181206.818999\\output...\n",
      "Removing temp directory C:\\Users\\PC\\AppData\\Local\\Temp\\rc5.PC.20240212.181206.818999...\n"
     ]
    }
   ],
   "source": [
    "!python rc5.py citation.txt > output_rc5.txt"
   ]
  },
  {
   "cell_type": "markdown",
   "id": "dc2eadef",
   "metadata": {},
   "source": [
    "# Part 6"
   ]
  },
  {
   "cell_type": "code",
   "execution_count": 344,
   "id": "2019602f",
   "metadata": {},
   "outputs": [
    {
     "name": "stdout",
     "output_type": "stream",
     "text": [
      "Overwriting rc6.py\n"
     ]
    }
   ],
   "source": [
    "%%file rc6.py\n",
    "\n",
    "from mrjob.job import MRJob\n",
    "import re\n",
    "\n",
    "class AuthorsWithOnePaperPerYear(MRJob):\n",
    "\n",
    "    def mapper_init(self):\n",
    "        self.author_paper_count = {}\n",
    "\n",
    "    def mapper(self, _, line):\n",
    "        author_match = re.search(r'#@\\s*(.*)#t(\\d+)', line)\n",
    "        if author_match:\n",
    "            authors = author_match.group(1).split(',')\n",
    "            year = int(author_match.group(2))\n",
    "            if year not in self.author_paper_count:\n",
    "                self.author_paper_count[year] = {}\n",
    "            for author in authors:\n",
    "                author = author.strip()\n",
    "                self.author_paper_count[year][author] = self.author_paper_count[year].get(author, 0) + 1\n",
    "\n",
    "    def mapper_final(self):\n",
    "        for year, author_count_dict in self.author_paper_count.items():\n",
    "            for author, count in author_count_dict.items():\n",
    "                yield (year, author), count\n",
    "\n",
    "    def reducer(self, author_year, counts):\n",
    "        total_papers = sum(counts)\n",
    "        if total_papers <= 1:\n",
    "            yield author_year[0], author_year[1]\n",
    "\n",
    "if __name__ == '__main__':\n",
    "    AuthorsWithOnePaperPerYear.run()\n",
    "       \n"
   ]
  },
  {
   "cell_type": "code",
   "execution_count": 345,
   "id": "653ac6a6",
   "metadata": {},
   "outputs": [
    {
     "name": "stdout",
     "output_type": "stream",
     "text": [
      "1973\t\"Stanley Habib\"\n",
      "1975\t\"Bruce Shriver\"\n",
      "1975\t\"Ted Lewis\"\n",
      "1976\t\"John R. Mick\"\n",
      "1978\t\"Charles S. Wetherell\"\n",
      "1978\t\"James R. McGraw\"\n",
      "1978\t\"Jr.\"\n",
      "1978\t\"Lyle A. Cox\"\n",
      "1982\t\"William J. Tracz\"\n",
      "1985\t\"Rudolph Langer\"\n",
      "1987\t\"John Blaint\"\n",
      "1991\t\"John Etchemendy\"\n",
      "1991\t\"Jon Barwise\"\n",
      "1993\t\"David M. Lane\"\n",
      "1994\t\"Carla Rose\"\n",
      "1994\t\"Gene Orwell\"\n",
      "1994\t\"Wayne L. Winston\"\n",
      "1995\t\"\"\n",
      "1996\t\"A. Krzyzak\"\n",
      "1996\t\"E. Skubalska-Rafajtowicz\"\n",
      "1996\t\"J. Knipe\"\n",
      "1996\t\"X. Li\"\n",
      "1997\t\"\"\n",
      "1997\t\"W. E. Clason\"\n",
      "1999\t\"Donald Christiansen\"\n",
      "2000\t\"\"\n",
      "2000\t\"Ken Abernethy\"\n",
      "2001\t\"\"\n",
      "2002\t\"Brenden Munnelly\"\n",
      "2002\t\"Paul Holden\"\n",
      "2003\t\"Charles J. Brooks\"\n",
      "2003\t\"John Odam\"\n",
      "2003\t\"Jose Pedro Llamazares\"\n",
      "2003\t\"Michael Cloran\"\n",
      "2004\t\"Andreas N\\u00fcrnberger\"\n",
      "2004\t\"Deborah Timmons\"\n",
      "2004\t\"Denise Seguin\"\n",
      "2004\t\"Derrick Story\"\n",
      "2004\t\"John Preston\"\n",
      "2004\t\"Marcin Detyniecki\"\n",
      "2004\t\"Michael T. Goodrich\"\n",
      "2004\t\"Nita Hewitt Rutkosky\"\n",
      "2004\t\"Sally Preston\"\n",
      "2004\t\"Shelley Gaskin\"\n",
      "2004\t\"Tom Collins\"\n",
      "2005\t\"\"\n",
      "2005\t\"Alice Redmond-neal\"\n",
      "2005\t\"Axel Bucker\"\n",
      "2005\t\"Carlito Vicencio\"\n",
      "2005\t\"Celso H. Poderoso de Oliveira\"\n",
      "2005\t\"Dan Irish\"\n",
      "2005\t\"Darrel Creacy\"\n",
      "2005\t\"David A. Marca\"\n",
      "2005\t\"David Cope\"\n",
      "2005\t\"Dean Bagley\"\n",
      "2005\t\"Eric Grebler\"\n",
      "2005\t\"Jeff Kent\"\n",
      "2005\t\"Marjorie M. K. Hlava\"\n",
      "2005\t\"Michael Smick\"\n",
      "2005\t\"Nightow Yoshiro\"\n",
      "2005\t\"Pamela W. Adams\"\n",
      "2006\t\"Alexander Gelbukh\"\n",
      "2006\t\"Amitabh Chaudhary\"\n",
      "2006\t\"Amitabha Bagchi\"\n",
      "2006\t\"Anita Kesavan\"\n",
      "2006\t\"Ankur Bhargava\"\n",
      "2006\t\"Arthur Greef\"\n",
      "2006\t\"Barry Smyth\"\n",
      "2006\t\"Bart Preneel\"\n",
      "2006\t\"Ben Long\"\n",
      "2006\t\"Carlos Alberto Reyes-Garcia\"\n",
      "2006\t\"Catholijn M. Jonker\"\n",
      "2006\t\"Cay S. Horstmann\"\n",
      "2006\t\"Cheng-Lin Liu\"\n",
      "2006\t\"Christian Scheideler\"\n",
      "2006\t\"Constantine Caramanis\"\n",
      "2006\t\"Daeyeol Lee\"\n",
      "2006\t\"Damian Hodgson\"\n",
      "2006\t\"Damien Stolarz\"\n",
      "2006\t\"Dan Oja\"\n",
      "2006\t\"David Eppstein\"\n",
      "2006\t\"David J. Horntrop\"\n",
      "2006\t\"Dongming Wang\"\n",
      "2006\t\"Donna Ulmer\"\n",
      "2006\t\"Gideon Kunda\"\n",
      "2006\t\"Hans J. Skovgaard\"\n",
      "2006\t\"Helen Ashman\"\n",
      "2006\t\"Hernan P. Awad\"\n",
      "2006\t\"Hiroshi Sako\"\n",
      "2006\t\"Hoon Hong\"\n",
      "2006\t\"Ian David Aronson\"\n",
      "2006\t\"Jan Treur\"\n",
      "2006\t\"Jason Eckert\"\n",
      "2006\t\"Jeong-woo Sohn\"\n",
      "2006\t\"John Copas\"\n",
      "2006\t\"John Maeda\"\n",
      "2006\t\"June Jamrich Parsons\"\n",
      "2006\t\"Lars Dragheim Olsen\"\n",
      "2006\t\"Lee Humphreys\"\n",
      "2006\t\"Lionel Felix\"\n",
      "2006\t\"Michael Fruergaard Pontoppidan\"\n",
      "2006\t\"Michael Rosenblum\"\n",
      "2006\t\"Michel X. Goemans\"\n",
      "2006\t\"Neil Daswani\"\n",
      "2006\t\"Palle Agermark\"\n",
      "2006\t\"Paul Messaris\"\n",
      "2006\t\"Peter W. Glynn\"\n",
      "2006\t\"Red Burns\"\n",
      "2006\t\"Ron Dulin\"\n",
      "2006\t\"Shinto Eguchi\"\n",
      "2006\t\"Stephen R. Barley\"\n",
      "2006\t\"Steve Holzner\"\n",
      "2006\t\"Svetlana Cicmil\"\n",
      "2006\t\"Tibor Bosse\"\n",
      "2006\t\"Torsten Suel\"\n",
      "2006\t\"Vahid Tarokh\"\n",
      "2006\t\"Vincent Wade\"\n",
      "2006\t\"Woody Leonhard\"\n",
      "2006\t\"Xiaohui Long\"\n",
      "2007\t\"Ahmed Hassan\"\n",
      "2007\t\"Allan Hunkin\"\n",
      "2007\t\"Amir Ahmad\"\n",
      "2007\t\"Cay S. Horstmann\"\n",
      "2007\t\"Charles J. Brooks\"\n",
      "2007\t\"Clemens Gr\\u00f6pl\"\n",
      "2007\t\"Eva Lange\"\n",
      "2007\t\"Jake Chen\"\n",
      "2007\t\"Knut Reinert\"\n",
      "2007\t\"Korinna Patelis\"\n",
      "2007\t\"Lipika Dey\"\n",
      "2007\t\"Marc Sturm\"\n",
      "2007\t\"Michael Schrenk\"\n",
      "2007\t\"Michael Shrenk\"\n",
      "2007\t\"Nico Pfeifer\"\n",
      "2007\t\"Ole Schulz-Trieglaff\"\n",
      "2007\t\"Oliver Kohlbacher\"\n",
      "2007\t\"Parminder Flora\"\n",
      "2007\t\"R. Kelly Rainer\"\n",
      "2007\t\"Zongmin Ma\"\n"
     ]
    },
    {
     "name": "stderr",
     "output_type": "stream",
     "text": [
      "No configs found; falling back on auto-configuration\n",
      "No configs specified for inline runner\n",
      "Creating temp directory C:\\Users\\PC\\AppData\\Local\\Temp\\rc6.PC.20240212.175824.833528\n",
      "Running step 1 of 1...\n",
      "job output is in C:\\Users\\PC\\AppData\\Local\\Temp\\rc6.PC.20240212.175824.833528\\output\n",
      "Streaming final output from C:\\Users\\PC\\AppData\\Local\\Temp\\rc6.PC.20240212.175824.833528\\output...\n",
      "Removing temp directory C:\\Users\\PC\\AppData\\Local\\Temp\\rc6.PC.20240212.175824.833528...\n"
     ]
    }
   ],
   "source": [
    "!python rc6.py citation.txt"
   ]
  },
  {
   "cell_type": "code",
   "execution_count": 371,
   "id": "2a842972",
   "metadata": {},
   "outputs": [
    {
     "name": "stderr",
     "output_type": "stream",
     "text": [
      "No configs found; falling back on auto-configuration\n",
      "No configs specified for inline runner\n",
      "Creating temp directory C:\\Users\\PC\\AppData\\Local\\Temp\\rc6.PC.20240212.181240.809053\n",
      "Running step 1 of 1...\n",
      "job output is in C:\\Users\\PC\\AppData\\Local\\Temp\\rc6.PC.20240212.181240.809053\\output\n",
      "Streaming final output from C:\\Users\\PC\\AppData\\Local\\Temp\\rc6.PC.20240212.181240.809053\\output...\n",
      "Removing temp directory C:\\Users\\PC\\AppData\\Local\\Temp\\rc6.PC.20240212.181240.809053...\n"
     ]
    }
   ],
   "source": [
    "!python rc6.py citation.txt > output_rc6.txt"
   ]
  },
  {
   "cell_type": "code",
   "execution_count": 361,
   "id": "d0daaee0",
   "metadata": {},
   "outputs": [
    {
     "name": "stdout",
     "output_type": "stream",
     "text": [
      "Overwriting rc7.py\n"
     ]
    }
   ],
   "source": [
    "%%file rc7.py\n",
    "from mrjob.job import MRJob\n",
    "import re\n",
    "\n",
    "class Part7(MRJob):\n",
    "\n",
    "    def mapper_init(self):\n",
    "        self.titles = []\n",
    "\n",
    "    def mapper(self, _, line):\n",
    "        title_match = re.search(r'#\\*\\s*(.*)\\s*#@', line)\n",
    "        venue_match = re.search(r'#c\\s*(.*)', line)\n",
    "        if title_match and not venue_match:\n",
    "            title = title_match.group(1)\n",
    "            self.titles.append(title)\n",
    "\n",
    "    def mapper_final(self):\n",
    "        for title in self.titles:\n",
    "            yield None, title\n",
    "\n",
    "    def reducer_init(self):\n",
    "        self.titles = []\n",
    "\n",
    "    def reducer(self, _, titles):\n",
    "        for title in titles:\n",
    "            self.titles.append(title)\n",
    "\n",
    "    def reducer_final(self):\n",
    "        for title in self.titles:\n",
    "            yield title,None\n",
    "\n",
    "if __name__ == '__main__':\n",
    "    Part7.run()\n",
    "\n"
   ]
  },
  {
   "cell_type": "code",
   "execution_count": 363,
   "id": "da3229c8",
   "metadata": {},
   "outputs": [
    {
     "name": "stderr",
     "output_type": "stream",
     "text": [
      "No configs found; falling back on auto-configuration\n",
      "No configs specified for inline runner\n",
      "Creating temp directory C:\\Users\\PC\\AppData\\Local\\Temp\\rc7.PC.20240212.180848.214888\n",
      "Running step 1 of 1...\n",
      "job output is in C:\\Users\\PC\\AppData\\Local\\Temp\\rc7.PC.20240212.180848.214888\\output\n",
      "Streaming final output from C:\\Users\\PC\\AppData\\Local\\Temp\\rc7.PC.20240212.180848.214888\\output...\n",
      "Removing temp directory C:\\Users\\PC\\AppData\\Local\\Temp\\rc7.PC.20240212.180848.214888...\n"
     ]
    }
   ],
   "source": [
    "!python rc7.py citation.txt > output_rc7.txt"
   ]
  },
  {
   "cell_type": "code",
   "execution_count": 360,
   "id": "6bf3d066",
   "metadata": {},
   "outputs": [],
   "source": [
    "output_rc7 = !python rc7.py citation.txt"
   ]
  },
  {
   "cell_type": "markdown",
   "id": "dd3024bb",
   "metadata": {},
   "source": [
    "# Combining all output files into one"
   ]
  },
  {
   "cell_type": "code",
   "execution_count": 400,
   "id": "8e54d035",
   "metadata": {},
   "outputs": [],
   "source": [
    "file_contents = []\n",
    "for i in range(1, 8):\n",
    "    with open(f'output_rc{i}.txt', 'r') as file:\n",
    "        file_contents.append(f'Part{i} output is :')\n",
    "        file_contents.append(file.read())\n",
    "with open('outputff.txt', 'w') as combined_file:\n",
    "    for content in file_contents:\n",
    "        combined_file.write(content + '\\n')"
   ]
  },
  {
   "cell_type": "code",
   "execution_count": 399,
   "id": "03839a6e",
   "metadata": {},
   "outputs": [],
   "source": []
  },
  {
   "cell_type": "code",
   "execution_count": null,
   "id": "6b0908d0",
   "metadata": {},
   "outputs": [],
   "source": []
  }
 ],
 "metadata": {
  "kernelspec": {
   "display_name": "Python 3 (ipykernel)",
   "language": "python",
   "name": "python3"
  },
  "language_info": {
   "codemirror_mode": {
    "name": "ipython",
    "version": 3
   },
   "file_extension": ".py",
   "mimetype": "text/x-python",
   "name": "python",
   "nbconvert_exporter": "python",
   "pygments_lexer": "ipython3",
   "version": "3.11.3"
  }
 },
 "nbformat": 4,
 "nbformat_minor": 5
}
